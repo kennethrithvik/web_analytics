{
  "cells": [
    {
      "metadata": {
        "_uuid": "8f2839f25d086af736a60e9eeb907d3b93b6e0e5",
        "_cell_guid": "b1076dfc-b9ad-4769-8c92-a6c4dae69d19",
        "trusted": true
      },
      "cell_type": "code",
      "source": "# This Python 3 environment comes with many helpful analytics libraries installed\n# It is defined by the kaggle/python docker image: https://github.com/kaggle/docker-python\n# For example, here's several helpful packages to load in \n\nimport numpy as np # linear algebra\nimport pandas as pd # data processing, CSV file I/O (e.g. pd.read_csv)\n\n# Input data files are available in the \"../input/\" directory.\n# For example, running this (by clicking run or pressing Shift+Enter) will list the files in the input directory\n\nimport os\nos.chdir('../input/yoochoose-data')\nprint(os.listdir())\n\n# Any results you write to the current directory are saved as output.",
      "execution_count": null,
      "outputs": []
    },
    {
      "metadata": {
        "_cell_guid": "79c7e3d0-c299-4dcb-8224-4455121ee9b0",
        "_uuid": "d629ff2d2480ee46fbb7e2d37f6b5fab8052498a",
        "trusted": true
      },
      "cell_type": "code",
      "source": "# set status of buys with 1\nbuys_raw=pd.read_csv('yoochoose-buys.dat',names=['sessionID','ts','itemID','price','cnt'])\nbuys_raw['status']=1\n\n# set status of clicks with 0\nclicks_raw=pd.read_csv('yoochoose-clicks.dat',names=['sessionID','ts','itemID','cat'])\nclicks_raw['status']=0\n\nclicks_raw=clicks_raw.sort_values(by=['sessionID','itemID'])\nclicks_raw['cat'] = clicks_raw['cat'].apply(str)",
      "execution_count": null,
      "outputs": []
    },
    {
      "metadata": {
        "trusted": true,
        "_uuid": "df44ff1b9cd4004508084aa0ca651ae8be6d0ee7"
      },
      "cell_type": "code",
      "source": "unique_session_buy=buys_raw[\"sessionID\"].unique()\nunique_session_buy=sorted(unique_session_buy)\nclicks_raw.loc[clicks_raw[\"sessionID\"].isin(unique_session_buy),\"status\"]=1",
      "execution_count": null,
      "outputs": []
    },
    {
      "metadata": {
        "trusted": true,
        "_uuid": "1d2350bdaf74df9cec87a0591ae85eb8c1bd8868"
      },
      "cell_type": "code",
      "source": "cat0_sid=clicks_raw.loc[(clicks_raw['cat']=='0') | (clicks_raw['cat'].isnull()),\"sessionID\"]\ncat0_sid=cat0_sid.unique()\nclicks=clicks_raw.loc[~clicks_raw[\"sessionID\"].isin(cat0_sid)]",
      "execution_count": 56,
      "outputs": []
    },
    {
      "metadata": {
        "trusted": true,
        "_uuid": "b3d8c3d571bdf3c7c989d71e145a24b2bead51b4"
      },
      "cell_type": "code",
      "source": "clicks_subset=clicks.iloc[0:1000000,:]",
      "execution_count": 66,
      "outputs": []
    },
    {
      "metadata": {
        "trusted": true,
        "_uuid": "c39ed99452c9b9aa87ee34cb4a2f3179f06034b6"
      },
      "cell_type": "code",
      "source": "buy_sid=clicks_subset.loc[clicks_subset['status']==1,\"sessionID\"]\nbuy_sid=buy_sid.unique()\nlen(buy_sid)",
      "execution_count": 69,
      "outputs": [
        {
          "output_type": "execute_result",
          "execution_count": 69,
          "data": {
            "text/plain": "15682"
          },
          "metadata": {}
        }
      ]
    },
    {
      "metadata": {
        "trusted": true,
        "_uuid": "d3ba57de23f6c2051ba4b30566d3bb92c0909097"
      },
      "cell_type": "code",
      "source": "unique_sid=clicks_subset.groupby('sessionID')[\"sessionID\",\"status\"].first()\nunique_sid = unique_sid.values",
      "execution_count": 113,
      "outputs": []
    },
    {
      "metadata": {
        "trusted": true,
        "_uuid": "0183a9941351cf7cbc3e67eefad9d582819cd74c"
      },
      "cell_type": "code",
      "source": "from sklearn.model_selection import train_test_split\nX_train, X_test, y_train, y_test = \\\ntrain_test_split(unique_sid[:,0], unique_sid[:,1], test_size=0.20, random_state=42)",
      "execution_count": 114,
      "outputs": []
    },
    {
      "metadata": {
        "trusted": true,
        "_uuid": "bf2235095e0248c00ca8d9e5efcef2c05b1d8928"
      },
      "cell_type": "code",
      "source": "clicks_train=clicks_subset.loc[clicks_subset['sessionID'].isin(X_train)]\nclicks_test=clicks_subset.loc[clicks_subset['sessionID'].isin(X_test)]",
      "execution_count": 115,
      "outputs": []
    },
    {
      "metadata": {
        "trusted": true,
        "_uuid": "631648364279227503bc96c2a389eb4a08f43523"
      },
      "cell_type": "code",
      "source": "clicks_train",
      "execution_count": 116,
      "outputs": [
        {
          "output_type": "execute_result",
          "execution_count": 116,
          "data": {
            "text/plain": "          sessionID                        ts     itemID cat  status\n15363196    4882331  2014-06-23T13:10:49.728Z  214613915   S       0\n15363195    4882331  2014-06-23T13:10:02.202Z  214684372   S       0\n15363197    4882331  2014-06-23T13:12:41.290Z  214684372   S       0\n15363007    4882339  2014-06-23T17:40:52.801Z  214691246   S       0\n15363009    4882339  2014-06-23T17:42:01.915Z  214691246   S       0\n15363010    4882339  2014-06-23T17:42:14.236Z  214691407   2       0\n15363011    4882339  2014-06-23T17:42:34.074Z  214840871   2       0\n15363008    4882339  2014-06-23T17:41:29.128Z  214843378   2       0\n15363012    4882339  2014-06-23T17:42:51.034Z  214849269   2       0\n15363040    4882346  2014-06-23T19:18:12.155Z  214589604   2       1\n15363041    4882346  2014-06-23T19:19:33.229Z  214589604   2       1\n15363035    4882346  2014-06-23T19:07:43.858Z  214684730   1       1\n15363042    4882346  2014-06-23T19:24:00.197Z  214691557   2       1\n15363039    4882346  2014-06-23T19:13:27.766Z  214709070   1       1\n15363037    4882346  2014-06-23T19:09:50.193Z  214711408   1       1\n15363036    4882346  2014-06-23T19:08:17.796Z  214826835   1       1\n15363034    4882346  2014-06-23T19:02:50.185Z  214831942   1       1\n15363038    4882346  2014-06-23T19:11:32.481Z  214832156   S       1\n15363043    4882346  2014-06-23T19:26:58.284Z  214844100   2       1\n15363044    4882346  2014-06-23T19:30:56.826Z  214844100   2       1\n15363033    4882346  2014-06-23T18:58:02.986Z  214845806   S       1\n15362931    4882372  2014-06-23T16:01:57.886Z  214839611   S       0\n15362932    4882372  2014-06-23T16:04:25.911Z  214845577   S       0\n15362930    4882373  2014-06-23T20:20:39.880Z  214717772   5       0\n15362967    4882387  2014-06-23T20:52:18.981Z  214844355   S       0\n15362966    4882387  2014-06-23T20:41:33.210Z  214844405   S       0\n15362968    4882387  2014-06-23T20:53:56.805Z  214845587   S       0\n15362779    4882403  2014-06-23T18:56:44.469Z  214510449   5       0\n15362780    4882403  2014-06-23T19:03:05.236Z  214510451   5       0\n15362778    4882403  2014-06-23T18:54:59.816Z  214691715   5       0\n...             ...                       ...        ...  ..     ...\n15665545    5555417  2014-06-29T16:40:02.978Z  214845587   S       0\n15665542    5555418  2014-06-30T11:48:30.859Z  214835426   S       0\n15665543    5555418  2014-06-30T11:48:51.642Z  214835426   S       0\n15665541    5555419  2014-06-27T05:43:36.907Z  214664698   1       0\n15665540    5555419  2014-06-27T05:43:10.444Z  214698737   1       0\n15665559    5555421  2014-06-29T15:55:53.376Z  214712833  10       0\n15665562    5555421  2014-06-29T15:59:27.625Z  214844372   S       0\n15665560    5555421  2014-06-29T15:56:51.765Z  214844398   S       0\n15665561    5555421  2014-06-29T15:57:42.031Z  214844400   S       0\n15665554    5555423  2014-06-28T11:17:22.261Z  214557774   S       0\n15665555    5555423  2014-06-28T11:18:51.753Z  214581427   S       0\n15665552    5555423  2014-06-28T11:13:21.469Z  214585676   S       0\n15665556    5555423  2014-06-28T11:20:18.367Z  214836532   S       0\n15665553    5555423  2014-06-28T11:15:10.554Z  214837918   S       0\n15665631    5555424  2014-06-28T09:04:05.429Z  214705792   5       0\n15665632    5555424  2014-06-28T09:05:35.075Z  214705792   5       0\n15665633    5555426  2014-06-26T06:02:00.514Z  214527519   S       0\n15665634    5555426  2014-06-26T06:02:19.840Z  214844336   S       0\n15665636    5555427  2014-06-30T16:43:06.596Z  214539208   2       0\n15665635    5555427  2014-06-30T16:41:16.540Z  214826949   S       0\n15665637    5555428  2014-06-29T19:43:14.817Z  214717093   6       0\n15665638    5555428  2014-06-29T19:43:15.631Z  214717093   6       0\n15665639    5555429  2014-06-30T12:11:49.304Z  214844345   S       0\n15665641    5555431  2014-06-30T21:13:14.115Z  214579226   S       0\n15665643    5555431  2014-06-30T21:18:48.264Z  214832145   S       0\n15665640    5555431  2014-06-30T21:04:29.449Z  214835023   S       0\n15665642    5555431  2014-06-30T21:16:42.484Z  214845416   S       0\n15665645    5555431  2014-06-30T21:22:28.205Z  214845984   S       0\n15665644    5555431  2014-06-30T21:20:40.144Z  214848997   S       0\n15665647    5555432  2014-06-26T14:18:26.856Z  214836075   3       0\n\n[801621 rows x 5 columns]",
            "text/html": "<div>\n<style scoped>\n    .dataframe tbody tr th:only-of-type {\n        vertical-align: middle;\n    }\n\n    .dataframe tbody tr th {\n        vertical-align: top;\n    }\n\n    .dataframe thead th {\n        text-align: right;\n    }\n</style>\n<table border=\"1\" class=\"dataframe\">\n  <thead>\n    <tr style=\"text-align: right;\">\n      <th></th>\n      <th>sessionID</th>\n      <th>ts</th>\n      <th>itemID</th>\n      <th>cat</th>\n      <th>status</th>\n    </tr>\n  </thead>\n  <tbody>\n    <tr>\n      <th>15363196</th>\n      <td>4882331</td>\n      <td>2014-06-23T13:10:49.728Z</td>\n      <td>214613915</td>\n      <td>S</td>\n      <td>0</td>\n    </tr>\n    <tr>\n      <th>15363195</th>\n      <td>4882331</td>\n      <td>2014-06-23T13:10:02.202Z</td>\n      <td>214684372</td>\n      <td>S</td>\n      <td>0</td>\n    </tr>\n    <tr>\n      <th>15363197</th>\n      <td>4882331</td>\n      <td>2014-06-23T13:12:41.290Z</td>\n      <td>214684372</td>\n      <td>S</td>\n      <td>0</td>\n    </tr>\n    <tr>\n      <th>15363007</th>\n      <td>4882339</td>\n      <td>2014-06-23T17:40:52.801Z</td>\n      <td>214691246</td>\n      <td>S</td>\n      <td>0</td>\n    </tr>\n    <tr>\n      <th>15363009</th>\n      <td>4882339</td>\n      <td>2014-06-23T17:42:01.915Z</td>\n      <td>214691246</td>\n      <td>S</td>\n      <td>0</td>\n    </tr>\n    <tr>\n      <th>15363010</th>\n      <td>4882339</td>\n      <td>2014-06-23T17:42:14.236Z</td>\n      <td>214691407</td>\n      <td>2</td>\n      <td>0</td>\n    </tr>\n    <tr>\n      <th>15363011</th>\n      <td>4882339</td>\n      <td>2014-06-23T17:42:34.074Z</td>\n      <td>214840871</td>\n      <td>2</td>\n      <td>0</td>\n    </tr>\n    <tr>\n      <th>15363008</th>\n      <td>4882339</td>\n      <td>2014-06-23T17:41:29.128Z</td>\n      <td>214843378</td>\n      <td>2</td>\n      <td>0</td>\n    </tr>\n    <tr>\n      <th>15363012</th>\n      <td>4882339</td>\n      <td>2014-06-23T17:42:51.034Z</td>\n      <td>214849269</td>\n      <td>2</td>\n      <td>0</td>\n    </tr>\n    <tr>\n      <th>15363040</th>\n      <td>4882346</td>\n      <td>2014-06-23T19:18:12.155Z</td>\n      <td>214589604</td>\n      <td>2</td>\n      <td>1</td>\n    </tr>\n    <tr>\n      <th>15363041</th>\n      <td>4882346</td>\n      <td>2014-06-23T19:19:33.229Z</td>\n      <td>214589604</td>\n      <td>2</td>\n      <td>1</td>\n    </tr>\n    <tr>\n      <th>15363035</th>\n      <td>4882346</td>\n      <td>2014-06-23T19:07:43.858Z</td>\n      <td>214684730</td>\n      <td>1</td>\n      <td>1</td>\n    </tr>\n    <tr>\n      <th>15363042</th>\n      <td>4882346</td>\n      <td>2014-06-23T19:24:00.197Z</td>\n      <td>214691557</td>\n      <td>2</td>\n      <td>1</td>\n    </tr>\n    <tr>\n      <th>15363039</th>\n      <td>4882346</td>\n      <td>2014-06-23T19:13:27.766Z</td>\n      <td>214709070</td>\n      <td>1</td>\n      <td>1</td>\n    </tr>\n    <tr>\n      <th>15363037</th>\n      <td>4882346</td>\n      <td>2014-06-23T19:09:50.193Z</td>\n      <td>214711408</td>\n      <td>1</td>\n      <td>1</td>\n    </tr>\n    <tr>\n      <th>15363036</th>\n      <td>4882346</td>\n      <td>2014-06-23T19:08:17.796Z</td>\n      <td>214826835</td>\n      <td>1</td>\n      <td>1</td>\n    </tr>\n    <tr>\n      <th>15363034</th>\n      <td>4882346</td>\n      <td>2014-06-23T19:02:50.185Z</td>\n      <td>214831942</td>\n      <td>1</td>\n      <td>1</td>\n    </tr>\n    <tr>\n      <th>15363038</th>\n      <td>4882346</td>\n      <td>2014-06-23T19:11:32.481Z</td>\n      <td>214832156</td>\n      <td>S</td>\n      <td>1</td>\n    </tr>\n    <tr>\n      <th>15363043</th>\n      <td>4882346</td>\n      <td>2014-06-23T19:26:58.284Z</td>\n      <td>214844100</td>\n      <td>2</td>\n      <td>1</td>\n    </tr>\n    <tr>\n      <th>15363044</th>\n      <td>4882346</td>\n      <td>2014-06-23T19:30:56.826Z</td>\n      <td>214844100</td>\n      <td>2</td>\n      <td>1</td>\n    </tr>\n    <tr>\n      <th>15363033</th>\n      <td>4882346</td>\n      <td>2014-06-23T18:58:02.986Z</td>\n      <td>214845806</td>\n      <td>S</td>\n      <td>1</td>\n    </tr>\n    <tr>\n      <th>15362931</th>\n      <td>4882372</td>\n      <td>2014-06-23T16:01:57.886Z</td>\n      <td>214839611</td>\n      <td>S</td>\n      <td>0</td>\n    </tr>\n    <tr>\n      <th>15362932</th>\n      <td>4882372</td>\n      <td>2014-06-23T16:04:25.911Z</td>\n      <td>214845577</td>\n      <td>S</td>\n      <td>0</td>\n    </tr>\n    <tr>\n      <th>15362930</th>\n      <td>4882373</td>\n      <td>2014-06-23T20:20:39.880Z</td>\n      <td>214717772</td>\n      <td>5</td>\n      <td>0</td>\n    </tr>\n    <tr>\n      <th>15362967</th>\n      <td>4882387</td>\n      <td>2014-06-23T20:52:18.981Z</td>\n      <td>214844355</td>\n      <td>S</td>\n      <td>0</td>\n    </tr>\n    <tr>\n      <th>15362966</th>\n      <td>4882387</td>\n      <td>2014-06-23T20:41:33.210Z</td>\n      <td>214844405</td>\n      <td>S</td>\n      <td>0</td>\n    </tr>\n    <tr>\n      <th>15362968</th>\n      <td>4882387</td>\n      <td>2014-06-23T20:53:56.805Z</td>\n      <td>214845587</td>\n      <td>S</td>\n      <td>0</td>\n    </tr>\n    <tr>\n      <th>15362779</th>\n      <td>4882403</td>\n      <td>2014-06-23T18:56:44.469Z</td>\n      <td>214510449</td>\n      <td>5</td>\n      <td>0</td>\n    </tr>\n    <tr>\n      <th>15362780</th>\n      <td>4882403</td>\n      <td>2014-06-23T19:03:05.236Z</td>\n      <td>214510451</td>\n      <td>5</td>\n      <td>0</td>\n    </tr>\n    <tr>\n      <th>15362778</th>\n      <td>4882403</td>\n      <td>2014-06-23T18:54:59.816Z</td>\n      <td>214691715</td>\n      <td>5</td>\n      <td>0</td>\n    </tr>\n    <tr>\n      <th>...</th>\n      <td>...</td>\n      <td>...</td>\n      <td>...</td>\n      <td>...</td>\n      <td>...</td>\n    </tr>\n    <tr>\n      <th>15665545</th>\n      <td>5555417</td>\n      <td>2014-06-29T16:40:02.978Z</td>\n      <td>214845587</td>\n      <td>S</td>\n      <td>0</td>\n    </tr>\n    <tr>\n      <th>15665542</th>\n      <td>5555418</td>\n      <td>2014-06-30T11:48:30.859Z</td>\n      <td>214835426</td>\n      <td>S</td>\n      <td>0</td>\n    </tr>\n    <tr>\n      <th>15665543</th>\n      <td>5555418</td>\n      <td>2014-06-30T11:48:51.642Z</td>\n      <td>214835426</td>\n      <td>S</td>\n      <td>0</td>\n    </tr>\n    <tr>\n      <th>15665541</th>\n      <td>5555419</td>\n      <td>2014-06-27T05:43:36.907Z</td>\n      <td>214664698</td>\n      <td>1</td>\n      <td>0</td>\n    </tr>\n    <tr>\n      <th>15665540</th>\n      <td>5555419</td>\n      <td>2014-06-27T05:43:10.444Z</td>\n      <td>214698737</td>\n      <td>1</td>\n      <td>0</td>\n    </tr>\n    <tr>\n      <th>15665559</th>\n      <td>5555421</td>\n      <td>2014-06-29T15:55:53.376Z</td>\n      <td>214712833</td>\n      <td>10</td>\n      <td>0</td>\n    </tr>\n    <tr>\n      <th>15665562</th>\n      <td>5555421</td>\n      <td>2014-06-29T15:59:27.625Z</td>\n      <td>214844372</td>\n      <td>S</td>\n      <td>0</td>\n    </tr>\n    <tr>\n      <th>15665560</th>\n      <td>5555421</td>\n      <td>2014-06-29T15:56:51.765Z</td>\n      <td>214844398</td>\n      <td>S</td>\n      <td>0</td>\n    </tr>\n    <tr>\n      <th>15665561</th>\n      <td>5555421</td>\n      <td>2014-06-29T15:57:42.031Z</td>\n      <td>214844400</td>\n      <td>S</td>\n      <td>0</td>\n    </tr>\n    <tr>\n      <th>15665554</th>\n      <td>5555423</td>\n      <td>2014-06-28T11:17:22.261Z</td>\n      <td>214557774</td>\n      <td>S</td>\n      <td>0</td>\n    </tr>\n    <tr>\n      <th>15665555</th>\n      <td>5555423</td>\n      <td>2014-06-28T11:18:51.753Z</td>\n      <td>214581427</td>\n      <td>S</td>\n      <td>0</td>\n    </tr>\n    <tr>\n      <th>15665552</th>\n      <td>5555423</td>\n      <td>2014-06-28T11:13:21.469Z</td>\n      <td>214585676</td>\n      <td>S</td>\n      <td>0</td>\n    </tr>\n    <tr>\n      <th>15665556</th>\n      <td>5555423</td>\n      <td>2014-06-28T11:20:18.367Z</td>\n      <td>214836532</td>\n      <td>S</td>\n      <td>0</td>\n    </tr>\n    <tr>\n      <th>15665553</th>\n      <td>5555423</td>\n      <td>2014-06-28T11:15:10.554Z</td>\n      <td>214837918</td>\n      <td>S</td>\n      <td>0</td>\n    </tr>\n    <tr>\n      <th>15665631</th>\n      <td>5555424</td>\n      <td>2014-06-28T09:04:05.429Z</td>\n      <td>214705792</td>\n      <td>5</td>\n      <td>0</td>\n    </tr>\n    <tr>\n      <th>15665632</th>\n      <td>5555424</td>\n      <td>2014-06-28T09:05:35.075Z</td>\n      <td>214705792</td>\n      <td>5</td>\n      <td>0</td>\n    </tr>\n    <tr>\n      <th>15665633</th>\n      <td>5555426</td>\n      <td>2014-06-26T06:02:00.514Z</td>\n      <td>214527519</td>\n      <td>S</td>\n      <td>0</td>\n    </tr>\n    <tr>\n      <th>15665634</th>\n      <td>5555426</td>\n      <td>2014-06-26T06:02:19.840Z</td>\n      <td>214844336</td>\n      <td>S</td>\n      <td>0</td>\n    </tr>\n    <tr>\n      <th>15665636</th>\n      <td>5555427</td>\n      <td>2014-06-30T16:43:06.596Z</td>\n      <td>214539208</td>\n      <td>2</td>\n      <td>0</td>\n    </tr>\n    <tr>\n      <th>15665635</th>\n      <td>5555427</td>\n      <td>2014-06-30T16:41:16.540Z</td>\n      <td>214826949</td>\n      <td>S</td>\n      <td>0</td>\n    </tr>\n    <tr>\n      <th>15665637</th>\n      <td>5555428</td>\n      <td>2014-06-29T19:43:14.817Z</td>\n      <td>214717093</td>\n      <td>6</td>\n      <td>0</td>\n    </tr>\n    <tr>\n      <th>15665638</th>\n      <td>5555428</td>\n      <td>2014-06-29T19:43:15.631Z</td>\n      <td>214717093</td>\n      <td>6</td>\n      <td>0</td>\n    </tr>\n    <tr>\n      <th>15665639</th>\n      <td>5555429</td>\n      <td>2014-06-30T12:11:49.304Z</td>\n      <td>214844345</td>\n      <td>S</td>\n      <td>0</td>\n    </tr>\n    <tr>\n      <th>15665641</th>\n      <td>5555431</td>\n      <td>2014-06-30T21:13:14.115Z</td>\n      <td>214579226</td>\n      <td>S</td>\n      <td>0</td>\n    </tr>\n    <tr>\n      <th>15665643</th>\n      <td>5555431</td>\n      <td>2014-06-30T21:18:48.264Z</td>\n      <td>214832145</td>\n      <td>S</td>\n      <td>0</td>\n    </tr>\n    <tr>\n      <th>15665640</th>\n      <td>5555431</td>\n      <td>2014-06-30T21:04:29.449Z</td>\n      <td>214835023</td>\n      <td>S</td>\n      <td>0</td>\n    </tr>\n    <tr>\n      <th>15665642</th>\n      <td>5555431</td>\n      <td>2014-06-30T21:16:42.484Z</td>\n      <td>214845416</td>\n      <td>S</td>\n      <td>0</td>\n    </tr>\n    <tr>\n      <th>15665645</th>\n      <td>5555431</td>\n      <td>2014-06-30T21:22:28.205Z</td>\n      <td>214845984</td>\n      <td>S</td>\n      <td>0</td>\n    </tr>\n    <tr>\n      <th>15665644</th>\n      <td>5555431</td>\n      <td>2014-06-30T21:20:40.144Z</td>\n      <td>214848997</td>\n      <td>S</td>\n      <td>0</td>\n    </tr>\n    <tr>\n      <th>15665647</th>\n      <td>5555432</td>\n      <td>2014-06-26T14:18:26.856Z</td>\n      <td>214836075</td>\n      <td>3</td>\n      <td>0</td>\n    </tr>\n  </tbody>\n</table>\n<p>801621 rows × 5 columns</p>\n</div>"
          },
          "metadata": {}
        }
      ]
    }
  ],
  "metadata": {
    "kernelspec": {
      "display_name": "Python 3",
      "language": "python",
      "name": "python3"
    },
    "language_info": {
      "name": "python",
      "version": "3.6.6",
      "mimetype": "text/x-python",
      "codemirror_mode": {
        "name": "ipython",
        "version": 3
      },
      "pygments_lexer": "ipython3",
      "nbconvert_exporter": "python",
      "file_extension": ".py"
    }
  },
  "nbformat": 4,
  "nbformat_minor": 1
}